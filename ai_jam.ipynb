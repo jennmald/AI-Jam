{
 "cells": [
  {
   "cell_type": "code",
   "execution_count": 8,
   "metadata": {},
   "outputs": [],
   "source": [
    "import os\n",
    "import pandas as pd\n",
    "from tiled.client import from_uri"
   ]
  },
  {
   "cell_type": "code",
   "execution_count": 9,
   "metadata": {},
   "outputs": [],
   "source": [
    "import pandas as pd\n",
    "\n",
    "def parse_linescan_log(file_path):\n",
    "    \"\"\"\n",
    "    Parse a linescan log file into a pandas DataFrame.\n",
    "    \n",
    "    Each entry in the file should consist of 4 lines:\n",
    "      1. Timestamp (e.g., \"2024-02-12T09-33-05\")\n",
    "      2. Mode (e.g., \"mode = xafs_x/It\")\n",
    "      3. UID   (e.g., \"uid = e9979416-fd6d-4ea5-9d56-2257f52c9572\")\n",
    "      4. Position (e.g., \"position = 144.1771555806452\")\n",
    "    \n",
    "    The resulting DataFrame uses the UID as the index and includes:\n",
    "      - timestamp\n",
    "      - motor (parsed from mode)\n",
    "      - detector (parsed from mode)\n",
    "      - position\n",
    "    \"\"\"\n",
    "    data = []\n",
    "    \n",
    "    with open(file_path, 'r') as f:\n",
    "        # Remove blank lines and strip whitespace\n",
    "        lines = [line.strip() for line in f if line.strip()]\n",
    "    \n",
    "    # Process entries in blocks of 4 lines.\n",
    "    for i in range(0, len(lines), 4):\n",
    "        try:\n",
    "            ts_line = lines[i]\n",
    "            mode_line = lines[i + 1]\n",
    "            uid_line = lines[i + 2]\n",
    "            pos_line = lines[i + 3]\n",
    "        except IndexError:\n",
    "            # If there are incomplete blocks at the end, skip them.\n",
    "            break\n",
    "\n",
    "        # Parse timestamp\n",
    "        timestamp = ts_line\n",
    "        \n",
    "        # Parse mode and split into motor and detector.\n",
    "        # e.g., \"mode = xafs_x/It\"\n",
    "        mode_value = mode_line.split(\"=\", 1)[1].strip()\n",
    "        motor, detector = mode_value.split(\"/\", 1)\n",
    "        \n",
    "        # Parse UID (e.g., \"uid = e9979416-fd6d-4ea5-9d56-2257f52c9572\")\n",
    "        uid = uid_line.split(\"=\", 1)[1].strip()\n",
    "        \n",
    "        # Parse position (e.g., \"position = 144.1771555806452\")\n",
    "        position = float(pos_line.split(\"=\", 1)[1].strip())\n",
    "        \n",
    "        data.append({\n",
    "            \"timestamp\": timestamp,\n",
    "            \"motor\": motor,\n",
    "            \"detector\": detector,\n",
    "            \"position\": position,\n",
    "            \"uid\": uid\n",
    "        })\n",
    "    \n",
    "    df = pd.DataFrame(data)\n",
    "    df.set_index(\"uid\", inplace=True)\n",
    "    return df\n",
    "\n",
    "# Example usage:\n",
    "# df = parse_linescan_log(\"path/to/linescan_evaluation.txt.1\")\n",
    "# print(df)\n"
   ]
  },
  {
   "cell_type": "code",
   "execution_count": 14,
   "metadata": {},
   "outputs": [],
   "source": [
    "df1 = parse_linescan_log(os.path.join(\"datasets\", \"linescan_evaluation.txt.1\"))\n",
    "df2 = parse_linescan_log(os.path.join(\"datasets\", \"linescan_evaluation.txt.2\"))\n",
    "df = pd.concat([df1, df2], axis=0)"
   ]
  },
  {
   "cell_type": "code",
   "execution_count": 15,
   "metadata": {},
   "outputs": [
    {
     "data": {
      "text/html": [
       "<div>\n",
       "<style scoped>\n",
       "    .dataframe tbody tr th:only-of-type {\n",
       "        vertical-align: middle;\n",
       "    }\n",
       "\n",
       "    .dataframe tbody tr th {\n",
       "        vertical-align: top;\n",
       "    }\n",
       "\n",
       "    .dataframe thead th {\n",
       "        text-align: right;\n",
       "    }\n",
       "</style>\n",
       "<table border=\"1\" class=\"dataframe\">\n",
       "  <thead>\n",
       "    <tr style=\"text-align: right;\">\n",
       "      <th></th>\n",
       "      <th>timestamp</th>\n",
       "      <th>motor</th>\n",
       "      <th>detector</th>\n",
       "      <th>position</th>\n",
       "    </tr>\n",
       "    <tr>\n",
       "      <th>uid</th>\n",
       "      <th></th>\n",
       "      <th></th>\n",
       "      <th></th>\n",
       "      <th></th>\n",
       "    </tr>\n",
       "  </thead>\n",
       "  <tbody>\n",
       "    <tr>\n",
       "      <th>e9979416-fd6d-4ea5-9d56-2257f52c9572</th>\n",
       "      <td>2024-02-12T09-33-05</td>\n",
       "      <td>xafs_x</td>\n",
       "      <td>It</td>\n",
       "      <td>144.177156</td>\n",
       "    </tr>\n",
       "    <tr>\n",
       "      <th>2d8b6741-e589-4e6b-8c16-f3ab6bbc336e</th>\n",
       "      <td>2024-02-12T09-36-20</td>\n",
       "      <td>xafs_x</td>\n",
       "      <td>It</td>\n",
       "      <td>144.150454</td>\n",
       "    </tr>\n",
       "    <tr>\n",
       "      <th>2e30454f-a5ac-48f9-a3bf-5e1b15e544b5</th>\n",
       "      <td>2024-02-12T09-40-38</td>\n",
       "      <td>xafs_x</td>\n",
       "      <td>It</td>\n",
       "      <td>143.644743</td>\n",
       "    </tr>\n",
       "    <tr>\n",
       "      <th>a925e08a-7d1c-4e44-a8d5-126bcb62dc9e</th>\n",
       "      <td>2024-02-12T09-45-30</td>\n",
       "      <td>xafs_x</td>\n",
       "      <td>It</td>\n",
       "      <td>144.097048</td>\n",
       "    </tr>\n",
       "    <tr>\n",
       "      <th>76c348a3-5bb4-4b21-93e6-9e25995c6eaf</th>\n",
       "      <td>2024-02-12T09-48-23</td>\n",
       "      <td>xafs_x</td>\n",
       "      <td>It</td>\n",
       "      <td>141.169582</td>\n",
       "    </tr>\n",
       "    <tr>\n",
       "      <th>...</th>\n",
       "      <td>...</td>\n",
       "      <td>...</td>\n",
       "      <td>...</td>\n",
       "      <td>...</td>\n",
       "    </tr>\n",
       "    <tr>\n",
       "      <th>e653d400-895a-428f-88ca-d83e9b07907f</th>\n",
       "      <td>2025-01-22T16-52-36</td>\n",
       "      <td>xafs_x</td>\n",
       "      <td>Xs</td>\n",
       "      <td>109.448655</td>\n",
       "    </tr>\n",
       "    <tr>\n",
       "      <th>d8ae25e2-4096-4143-8c5c-63e18baf7a57</th>\n",
       "      <td>2025-01-23T12-42-23</td>\n",
       "      <td>xafs_y</td>\n",
       "      <td>Xs</td>\n",
       "      <td>171.603844</td>\n",
       "    </tr>\n",
       "    <tr>\n",
       "      <th>5ae5fdad-7b26-4901-bf78-cfda948de3a8</th>\n",
       "      <td>2025-01-24T08-09-24</td>\n",
       "      <td>xafs_x</td>\n",
       "      <td>Xs</td>\n",
       "      <td>161.292126</td>\n",
       "    </tr>\n",
       "    <tr>\n",
       "      <th>bccccd5b-b24c-49c2-97ec-780c592ab959</th>\n",
       "      <td>2025-01-24T08-12-14</td>\n",
       "      <td>xafs_x</td>\n",
       "      <td>Xs</td>\n",
       "      <td>160.263171</td>\n",
       "    </tr>\n",
       "    <tr>\n",
       "      <th>a068238c-7926-49cd-ba69-e4c15d1ef2a8</th>\n",
       "      <td>2025-01-24T08-14-35</td>\n",
       "      <td>xafs_x</td>\n",
       "      <td>Xs</td>\n",
       "      <td>160.043201</td>\n",
       "    </tr>\n",
       "  </tbody>\n",
       "</table>\n",
       "<p>2511 rows × 4 columns</p>\n",
       "</div>"
      ],
      "text/plain": [
       "                                                timestamp   motor detector  \\\n",
       "uid                                                                          \n",
       "e9979416-fd6d-4ea5-9d56-2257f52c9572  2024-02-12T09-33-05  xafs_x       It   \n",
       "2d8b6741-e589-4e6b-8c16-f3ab6bbc336e  2024-02-12T09-36-20  xafs_x       It   \n",
       "2e30454f-a5ac-48f9-a3bf-5e1b15e544b5  2024-02-12T09-40-38  xafs_x       It   \n",
       "a925e08a-7d1c-4e44-a8d5-126bcb62dc9e  2024-02-12T09-45-30  xafs_x       It   \n",
       "76c348a3-5bb4-4b21-93e6-9e25995c6eaf  2024-02-12T09-48-23  xafs_x       It   \n",
       "...                                                   ...     ...      ...   \n",
       "e653d400-895a-428f-88ca-d83e9b07907f  2025-01-22T16-52-36  xafs_x       Xs   \n",
       "d8ae25e2-4096-4143-8c5c-63e18baf7a57  2025-01-23T12-42-23  xafs_y       Xs   \n",
       "5ae5fdad-7b26-4901-bf78-cfda948de3a8  2025-01-24T08-09-24  xafs_x       Xs   \n",
       "bccccd5b-b24c-49c2-97ec-780c592ab959  2025-01-24T08-12-14  xafs_x       Xs   \n",
       "a068238c-7926-49cd-ba69-e4c15d1ef2a8  2025-01-24T08-14-35  xafs_x       Xs   \n",
       "\n",
       "                                        position  \n",
       "uid                                               \n",
       "e9979416-fd6d-4ea5-9d56-2257f52c9572  144.177156  \n",
       "2d8b6741-e589-4e6b-8c16-f3ab6bbc336e  144.150454  \n",
       "2e30454f-a5ac-48f9-a3bf-5e1b15e544b5  143.644743  \n",
       "a925e08a-7d1c-4e44-a8d5-126bcb62dc9e  144.097048  \n",
       "76c348a3-5bb4-4b21-93e6-9e25995c6eaf  141.169582  \n",
       "...                                          ...  \n",
       "e653d400-895a-428f-88ca-d83e9b07907f  109.448655  \n",
       "d8ae25e2-4096-4143-8c5c-63e18baf7a57  171.603844  \n",
       "5ae5fdad-7b26-4901-bf78-cfda948de3a8  161.292126  \n",
       "bccccd5b-b24c-49c2-97ec-780c592ab959  160.263171  \n",
       "a068238c-7926-49cd-ba69-e4c15d1ef2a8  160.043201  \n",
       "\n",
       "[2511 rows x 4 columns]"
      ]
     },
     "execution_count": 15,
     "metadata": {},
     "output_type": "execute_result"
    }
   ],
   "source": [
    "df"
   ]
  },
  {
   "cell_type": "code",
   "execution_count": 16,
   "metadata": {},
   "outputs": [],
   "source": [
    "container = from_uri(\"https://tiled.nsls2.bnl.gov\")"
   ]
  },
  {
   "cell_type": "code",
   "execution_count": 17,
   "metadata": {},
   "outputs": [
    {
     "data": {
      "text/plain": [
       "<Container {'tst', 'amx', 'bmm', 'chx', 'cms', 'csx', 'esm', ...} ~35 entries>"
      ]
     },
     "execution_count": 17,
     "metadata": {},
     "output_type": "execute_result"
    }
   ],
   "source": [
    "container"
   ]
  },
  {
   "cell_type": "code",
   "execution_count": 18,
   "metadata": {},
   "outputs": [],
   "source": [
    "bmm_catalog = container[\"bmm\"][\"raw\"]"
   ]
  },
  {
   "cell_type": "code",
   "execution_count": 19,
   "metadata": {},
   "outputs": [
    {
     "data": {
      "text/plain": [
       "<Catalog {}>"
      ]
     },
     "execution_count": 19,
     "metadata": {},
     "output_type": "execute_result"
    }
   ],
   "source": [
    "bmm_catalog"
   ]
  },
  {
   "cell_type": "code",
   "execution_count": null,
   "metadata": {},
   "outputs": [],
   "source": []
  }
 ],
 "metadata": {
  "kernelspec": {
   "display_name": "bluesky-dev",
   "language": "python",
   "name": "python3"
  },
  "language_info": {
   "codemirror_mode": {
    "name": "ipython",
    "version": 3
   },
   "file_extension": ".py",
   "mimetype": "text/x-python",
   "name": "python",
   "nbconvert_exporter": "python",
   "pygments_lexer": "ipython3",
   "version": "3.12.2"
  }
 },
 "nbformat": 4,
 "nbformat_minor": 2
}
