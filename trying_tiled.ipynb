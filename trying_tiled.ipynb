{
 "cells": [
  {
   "cell_type": "code",
   "execution_count": 1,
   "id": "9b698311-fed2-45e6-8567-cd0c52b74af6",
   "metadata": {},
   "outputs": [],
   "source": [
    "from tiled.client import from_uri"
   ]
  },
  {
   "cell_type": "code",
   "execution_count": 3,
   "id": "c02703df-883e-488c-85d9-107f7d557541",
   "metadata": {},
   "outputs": [
    {
     "name": "stdout",
     "output_type": "stream",
     "text": [
      "NOTICE TO USERS\n",
      "\n",
      "This is a Federal computer system (and/or it is directly connected to a BNL local network system) and is the property of the United States Government. It is for authorized use only. Users (authorized or unauthorized) have no explicit or implicit expectation of privacy.\n",
      "\n",
      "Any or all uses of this system and all files on this system may be intercepted, monitored, recorded, copied, audited, inspected, and disclosed to authorized site, Department of Energy, and law enforcement personnel, as well as authorized officials of other agencies, both domestic and foreign. By using this system, the user consents to such interception, monitoring, recording, copying, auditing, inspection, and disclosure at the discretion of authorized site or Department of Energy personnel.\n",
      "\n",
      "Unauthorized or improper use of this system may result in administrative disciplinary action and civil and criminal penalties. By continuing to use this system you indicate your awareness of and consent to these terms and conditions of use. LOG OFF IMMEDIATELY if you do not agree to the conditions stated in this warning.\n",
      "\n",
      "You have logged in as jmaldonad.\n",
      "\n"
     ]
    }
   ],
   "source": [
    "container = from_uri('https://tiled.nsls2.bnl.gov')"
   ]
  },
  {
   "cell_type": "code",
   "execution_count": 4,
   "id": "ad91844b-86d6-48da-a557-7e60d8d779c4",
   "metadata": {},
   "outputs": [
    {
     "data": {
      "text/plain": [
       "<Container {'tst', 'amx', 'bmm', 'chx', 'cms', 'csx', 'esm', ...} ~35 entries>"
      ]
     },
     "execution_count": 4,
     "metadata": {},
     "output_type": "execute_result"
    }
   ],
   "source": [
    "container"
   ]
  },
  {
   "cell_type": "code",
   "execution_count": 5,
   "id": "4e0d73df-e6f7-49c3-a392-961099ba8bb5",
   "metadata": {},
   "outputs": [],
   "source": [
    "bmm_catalog = container['bmm']['raw']"
   ]
  },
  {
   "cell_type": "code",
   "execution_count": 6,
   "id": "61074c4b-5a66-4d01-b8f7-aa18c43064d1",
   "metadata": {},
   "outputs": [
    {
     "data": {
      "text/plain": [
       "<Container {'c7cfa95c-daef-4bb1-bb8f-8d1a4f25e5dc', ...} ~211885 entries>"
      ]
     },
     "execution_count": 6,
     "metadata": {},
     "output_type": "execute_result"
    }
   ],
   "source": [
    "bmm_catalog"
   ]
  },
  {
   "cell_type": "code",
   "execution_count": 7,
   "id": "1917da2f-2f86-4bca-928c-10e9f66e27b5",
   "metadata": {},
   "outputs": [
    {
     "data": {
      "text/plain": [
       "<Container {'primary'}>"
      ]
     },
     "execution_count": 7,
     "metadata": {},
     "output_type": "execute_result"
    }
   ],
   "source": [
    "bmm_catalog[\"c7cfa95c-daef-4bb1-bb8f-8d1a4f25e5dc\"]"
   ]
  },
  {
   "cell_type": "code",
   "execution_count": 8,
   "id": "630ea0e1-d830-447d-b412-c13c1fbb26c8",
   "metadata": {},
   "outputs": [
    {
     "data": {
      "text/plain": [
       "'9fba13d6-8713-44d4-9df1-537e57e6e9aa'"
      ]
     },
     "execution_count": 8,
     "metadata": {},
     "output_type": "execute_result"
    }
   ],
   "source": [
    "bmm_catalog.keys().last()"
   ]
  },
  {
   "cell_type": "code",
   "execution_count": 9,
   "id": "6c1b8830-261c-4205-b08a-1301e5994079",
   "metadata": {},
   "outputs": [
    {
     "data": {
      "text/plain": [
       "'c7cfa95c-daef-4bb1-bb8f-8d1a4f25e5dc'"
      ]
     },
     "execution_count": 9,
     "metadata": {},
     "output_type": "execute_result"
    }
   ],
   "source": [
    "bmm_catalog.keys().first()"
   ]
  },
  {
   "cell_type": "code",
   "execution_count": 10,
   "id": "8104058e-a9b0-486c-a845-e9bf0b661438",
   "metadata": {},
   "outputs": [],
   "source": [
    "uid = bmm_catalog.keys().last()"
   ]
  },
  {
   "cell_type": "code",
   "execution_count": 11,
   "id": "dcd8ca94-0943-4b9b-b54f-9901359c3d32",
   "metadata": {},
   "outputs": [],
   "source": [
    "most_recent = bmm_catalog[uid]"
   ]
  },
  {
   "cell_type": "code",
   "execution_count": 12,
   "id": "1de74733-c26c-419d-8ece-aa6b5d9d2dca",
   "metadata": {},
   "outputs": [
    {
     "data": {
      "text/plain": [
       "<Container {'baseline', 'primary'}>"
      ]
     },
     "execution_count": 12,
     "metadata": {},
     "output_type": "execute_result"
    }
   ],
   "source": [
    "most_recent"
   ]
  },
  {
   "cell_type": "code",
   "execution_count": 13,
   "id": "36fc98bd-8283-4e21-996f-964a30930022",
   "metadata": {},
   "outputs": [
    {
     "data": {
      "text/plain": [
       "'9fba13d6-8713-44d4-9df1-537e57e6e9aa'"
      ]
     },
     "execution_count": 13,
     "metadata": {},
     "output_type": "execute_result"
    }
   ],
   "source": [
    "most_recent.metadata['start']['uid']"
   ]
  },
  {
   "cell_type": "code",
   "execution_count": 14,
   "id": "a83d5891-fa93-4e8d-aa0f-c34355ba249d",
   "metadata": {},
   "outputs": [
    {
     "data": {
      "text/plain": [
       "{'start': {'cycle': '2025-1',\n",
       "           'data_session': 'pass-317886',\n",
       "           'detectors': ['Ic0', 'Ic1', 'Ic2'],\n",
       "           'hints': {'dimensions': [[['dm3_bct'], 'primary']]},\n",
       "           'motors': ['dm3_bct'],\n",
       "           'num_intervals': 30,\n",
       "           'num_points': 31,\n",
       "           'plan_args': {'args': [\"XAFSEpicsMotor(prefix='XF:06BM-BI{BCT-Ax:Y}Mtr', \"\n",
       "                                  \"name='dm3_bct', settle_time=0.0, \"\n",
       "                                  \"timeout=None, read_attrs=['user_readback', \"\n",
       "                                  \"'user_setpoint'], \"\n",
       "                                  \"configuration_attrs=['user_offset', \"\n",
       "                                  \"'user_offset_dir', 'velocity', \"\n",
       "                                  \"'acceleration', 'motor_egu', 'resolution', \"\n",
       "                                  \"'enc_lss', 'clear_enc_lss', 'home_signal', \"\n",
       "                                  \"'hvel_sp', 'hlm', 'llm', 'kill_cmd', \"\n",
       "                                  \"'enable_cmd'])\",\n",
       "                                  -1.5,\n",
       "                                  1.5],\n",
       "                         'detectors': [\"IntegratedIC(prefix='XF:06BM-BI{IC:0}EM180:', \"\n",
       "                                       \"name='Ic0', read_attrs=['Ia'], \"\n",
       "                                       \"configuration_attrs=['integration_time', \"\n",
       "                                       \"'averaging_time', 'em_range', \"\n",
       "                                       \"'values_per_read', 'num_averaged'])\",\n",
       "                                       \"IntegratedIC(prefix='XF:06BM-BI{IC:1}EM180:', \"\n",
       "                                       \"name='Ic1', read_attrs=['Ia'], \"\n",
       "                                       \"configuration_attrs=['integration_time', \"\n",
       "                                       \"'averaging_time', 'em_range', \"\n",
       "                                       \"'values_per_read', 'num_averaged'])\",\n",
       "                                       \"IntegratedIC(prefix='XF:06BM-BI{IC:3}EM180:', \"\n",
       "                                       \"name='Ic2', read_attrs=['Ia'], \"\n",
       "                                       \"configuration_attrs=['integration_time', \"\n",
       "                                       \"'averaging_time', 'em_range', \"\n",
       "                                       \"'values_per_read', 'num_averaged'])\"],\n",
       "                         'num': 31,\n",
       "                         'per_step': 'None'},\n",
       "           'plan_name': 'rel_scan linescan dm3_bct I0',\n",
       "           'plan_pattern': 'inner_product',\n",
       "           'plan_pattern_args': {'args': [\"XAFSEpicsMotor(prefix='XF:06BM-BI{BCT-Ax:Y}Mtr', \"\n",
       "                                          \"name='dm3_bct', settle_time=0.0, \"\n",
       "                                          'timeout=None, '\n",
       "                                          \"read_attrs=['user_readback', \"\n",
       "                                          \"'user_setpoint'], \"\n",
       "                                          \"configuration_attrs=['user_offset', \"\n",
       "                                          \"'user_offset_dir', 'velocity', \"\n",
       "                                          \"'acceleration', 'motor_egu', \"\n",
       "                                          \"'resolution', 'enc_lss', \"\n",
       "                                          \"'clear_enc_lss', 'home_signal', \"\n",
       "                                          \"'hvel_sp', 'hlm', 'llm', \"\n",
       "                                          \"'kill_cmd', 'enable_cmd'])\",\n",
       "                                          -1.5,\n",
       "                                          1.5],\n",
       "                                 'num': 31},\n",
       "           'plan_pattern_module': 'bluesky.plan_patterns',\n",
       "           'plan_type': 'generator',\n",
       "           'proposal': {'pi_name': 'Bruce Ravel',\n",
       "                        'proposal_id': '317886',\n",
       "                        'title': 'Beamline maintenance and development '\n",
       "                                 '(PU-316865) ',\n",
       "                        'type': 'Partner User - Project'},\n",
       "           'scan_id': 13373,\n",
       "           'start_datetime': '2025-02-19T13:49:07.797225',\n",
       "           'time': 1740055990.9637425,\n",
       "           'uid': '9fba13d6-8713-44d4-9df1-537e57e6e9aa',\n",
       "           'username': 'bravel'},\n",
       " 'stop': {'exit_status': 'success',\n",
       "          'num_events': {'baseline': 2, 'primary': 31},\n",
       "          'reason': '',\n",
       "          'run_start': '9fba13d6-8713-44d4-9df1-537e57e6e9aa',\n",
       "          'time': 1740056035.6906369,\n",
       "          'uid': '053416d9-191f-4d57-ac1b-a8cca5065bc5'},\n",
       " 'summary': {'datetime': datetime.datetime(2025, 2, 20, 12, 53, 10, 963742, tzinfo=datetime.timezone.utc),\n",
       "             'duration': 44.72689437866211,\n",
       "             'plan_name': 'rel_scan linescan dm3_bct I0',\n",
       "             'scan_id': 13373,\n",
       "             'stream_names': ['baseline', 'primary'],\n",
       "             'timestamp': 1740055990.9637425,\n",
       "             'uid': '9fba13d6-8713-44d4-9df1-537e57e6e9aa'}}"
      ]
     },
     "execution_count": 14,
     "metadata": {},
     "output_type": "execute_result"
    }
   ],
   "source": [
    "most_recent.metadata"
   ]
  },
  {
   "cell_type": "code",
   "execution_count": 15,
   "id": "44ecd096-a57f-4791-b8a2-3f12f335a60e",
   "metadata": {},
   "outputs": [
    {
     "data": {
      "text/plain": [
       "<Container {'data', 'timestamps', 'config', ...} ~4 entries>"
      ]
     },
     "execution_count": 15,
     "metadata": {},
     "output_type": "execute_result"
    }
   ],
   "source": [
    "most_recent[\"primary\"]"
   ]
  },
  {
   "cell_type": "code",
   "execution_count": 16,
   "id": "2f4b06a7-79ae-4fbb-a93d-85a3bb9de1a1",
   "metadata": {},
   "outputs": [
    {
     "name": "stdout",
     "output_type": "stream",
     "text": [
      "data\n",
      "timestamps\n",
      "config\n",
      "config_timestamps\n"
     ]
    }
   ],
   "source": [
    "for key in most_recent[\"primary\"]:\n",
    "    print(key)"
   ]
  },
  {
   "cell_type": "code",
   "execution_count": 17,
   "id": "09fd4331-0b08-4ba8-9446-b497135b4eea",
   "metadata": {},
   "outputs": [
    {
     "data": {
      "text/plain": [
       "<DatasetClient ['time', 'I0', 'Ir', 'dm3_bct', 'dm3_bct_user_setpoint', 'It']>"
      ]
     },
     "execution_count": 17,
     "metadata": {},
     "output_type": "execute_result"
    }
   ],
   "source": [
    "most_recent[\"primary\"][\"data\"]"
   ]
  },
  {
   "cell_type": "code",
   "execution_count": 19,
   "id": "89e33203-1e8e-411c-b573-f9ba7f060771",
   "metadata": {},
   "outputs": [],
   "source": [
    "y = bmm_catalog['e9979416-fd6d-4ea5-9d56-2257f52c9572']['primary']"
   ]
  },
  {
   "cell_type": "code",
   "execution_count": 20,
   "id": "2ceb43b0-8aaf-4444-ae0f-00ebdfedf1cd",
   "metadata": {},
   "outputs": [
    {
     "data": {
      "text/plain": [
       "<Container {'data', 'timestamps', 'config', ...} ~4 entries>"
      ]
     },
     "execution_count": 20,
     "metadata": {},
     "output_type": "execute_result"
    }
   ],
   "source": [
    "y"
   ]
  },
  {
   "cell_type": "code",
   "execution_count": 21,
   "id": "604160ce-b13a-42e3-b917-919381e49df0",
   "metadata": {},
   "outputs": [
    {
     "name": "stdout",
     "output_type": "stream",
     "text": [
      "data\n",
      "timestamps\n",
      "config\n",
      "config_timestamps\n"
     ]
    }
   ],
   "source": [
    "for key in y:\n",
    "    print(key)"
   ]
  },
  {
   "cell_type": "code",
   "execution_count": 22,
   "id": "79d7f161-1ad2-4c8c-b352-3ecaf2acebc0",
   "metadata": {},
   "outputs": [
    {
     "data": {
      "text/plain": [
       "<Container {'Ic1', 'xafs_x', 'quadem1', 'Ic0'}>"
      ]
     },
     "execution_count": 22,
     "metadata": {},
     "output_type": "execute_result"
    }
   ],
   "source": [
    "y[\"config\"]"
   ]
  },
  {
   "cell_type": "code",
   "execution_count": 23,
   "id": "11cf566c-2a75-41c0-a61c-da45866c3dc2",
   "metadata": {},
   "outputs": [
    {
     "data": {
      "text/plain": [
       "<DatasetClient ['time', 'It', 'xafs_x', 'xafs_x_user_setpoint', 'Ir', 'I0']>"
      ]
     },
     "execution_count": 23,
     "metadata": {},
     "output_type": "execute_result"
    }
   ],
   "source": [
    "y[\"timestamps\"]"
   ]
  },
  {
   "cell_type": "code",
   "execution_count": 24,
   "id": "d6edbbb1-57f8-4c18-85a9-f01e8fa493ac",
   "metadata": {},
   "outputs": [
    {
     "data": {
      "text/plain": [
       "<ArrayClient shape=(31,) chunks=((31,),) dtype=float64 dims=('time',)>"
      ]
     },
     "execution_count": 24,
     "metadata": {},
     "output_type": "execute_result"
    }
   ],
   "source": [
    "y[\"timestamps\"][\"It\"]"
   ]
  },
  {
   "cell_type": "code",
   "execution_count": 25,
   "id": "308345ef-d8ca-4e7e-8792-b91bd586d153",
   "metadata": {},
   "outputs": [],
   "source": [
    "uid = '3b5dc5fa-9252-43cc-b70d-8288f03dbb69'\n",
    "test_recent = bmm_catalog[uid]"
   ]
  },
  {
   "cell_type": "code",
   "execution_count": 26,
   "id": "3345b785-d026-4b3c-8185-4bcba138a45e",
   "metadata": {},
   "outputs": [
    {
     "data": {
      "text/plain": [
       "<Container {'baseline', 'primary'}>"
      ]
     },
     "execution_count": 26,
     "metadata": {},
     "output_type": "execute_result"
    }
   ],
   "source": [
    "test_recent"
   ]
  },
  {
   "cell_type": "code",
   "execution_count": 27,
   "id": "a3959289-3f7c-49a1-82dc-9977efa0c4ef",
   "metadata": {},
   "outputs": [],
   "source": [
    "primary = test_recent['primary']"
   ]
  },
  {
   "cell_type": "code",
   "execution_count": 28,
   "id": "4b16f08e-ba9f-42ff-bc39-daa0e653c58c",
   "metadata": {},
   "outputs": [
    {
     "data": {
      "text/plain": [
       "<Container {'data', 'timestamps', 'config', ...} ~4 entries>"
      ]
     },
     "execution_count": 28,
     "metadata": {},
     "output_type": "execute_result"
    }
   ],
   "source": [
    "primary"
   ]
  },
  {
   "cell_type": "code",
   "execution_count": 29,
   "id": "99d3545a-a1b7-4c22-8133-7ebe9b71c80f",
   "metadata": {},
   "outputs": [
    {
     "data": {
      "text/plain": [
       "<DatasetClient ['time', 'dwti_dwell_time', 'dwti_dwell_time_setpoint', 'dcm_energy', 'dcm_energy_setpoint', '7-element SDD_channel01_xrf', 'Co1', '7-element SDD_channel02_xrf', 'Co2', '7-element SDD_channel03_xrf', 'Co3', '7-element SDD_channel04_xrf', 'Co4', '7-element SDD_channel05_xrf', 'Co5', '7-element SDD_channel06_xrf', 'Co6', '7-element SDD_channel07_xrf', 'Co7', 'It', 'Ir', 'I0']>"
      ]
     },
     "execution_count": 29,
     "metadata": {},
     "output_type": "execute_result"
    }
   ],
   "source": [
    "primary['timestamps']"
   ]
  },
  {
   "cell_type": "code",
   "execution_count": 30,
   "id": "6021874b-65bb-49d1-b327-21184cfb597e",
   "metadata": {},
   "outputs": [
    {
     "data": {
      "text/plain": [
       "<Container {'inttime', 'dcm_energy', '7-element SDD', 'Ic1', ...} ~6 entries>"
      ]
     },
     "execution_count": 30,
     "metadata": {},
     "output_type": "execute_result"
    }
   ],
   "source": [
    "primary[\"config_timestamps\"]"
   ]
  },
  {
   "cell_type": "code",
   "execution_count": 31,
   "id": "6e8e908f-f333-42ed-8c0d-ff1557d66090",
   "metadata": {},
   "outputs": [
    {
     "name": "stdout",
     "output_type": "stream",
     "text": [
      "inttime\n",
      "dcm_energy\n",
      "7-element SDD\n",
      "Ic1\n",
      "Ic2\n",
      "Ic0\n"
     ]
    }
   ],
   "source": [
    "for key in primary[\"config_timestamps\"]:\n",
    "    print(key)"
   ]
  },
  {
   "cell_type": "code",
   "execution_count": 32,
   "id": "133ebeb1-48dd-47eb-9af2-fd78307b8060",
   "metadata": {},
   "outputs": [
    {
     "data": {
      "text/plain": [
       "<DatasetClient ['time', 'dwti_dwell_time', 'dwti_dwell_time_setpoint', 'dcm_energy', 'dcm_energy_setpoint', '7-element SDD_channel01_xrf', 'Co1', '7-element SDD_channel02_xrf', 'Co2', '7-element SDD_channel03_xrf', 'Co3', '7-element SDD_channel04_xrf', 'Co4', '7-element SDD_channel05_xrf', 'Co5', '7-element SDD_channel06_xrf', 'Co6', '7-element SDD_channel07_xrf', 'Co7', 'It', 'Ir', 'I0']>"
      ]
     },
     "execution_count": 32,
     "metadata": {},
     "output_type": "execute_result"
    }
   ],
   "source": [
    "primary[\"data\"]"
   ]
  },
  {
   "cell_type": "code",
   "execution_count": 33,
   "id": "26c07b90-c07a-426d-b649-507ae26052ec",
   "metadata": {},
   "outputs": [
    {
     "data": {
      "text/plain": [
       "<Container {'inttime', 'dcm_energy', '7-element SDD', 'Ic1', ...} ~6 entries>"
      ]
     },
     "execution_count": 33,
     "metadata": {},
     "output_type": "execute_result"
    }
   ],
   "source": [
    "primary[\"config\"]"
   ]
  },
  {
   "cell_type": "code",
   "execution_count": 34,
   "id": "4bf4de25-f8b6-44b9-a98b-0257698a7f9d",
   "metadata": {},
   "outputs": [
    {
     "name": "stdout",
     "output_type": "stream",
     "text": [
      "inttime\n",
      "dcm_energy\n",
      "7-element SDD\n",
      "Ic1\n",
      "Ic2\n",
      "Ic0\n"
     ]
    }
   ],
   "source": [
    "for key in primary[\"config\"]:\n",
    "    print(key)"
   ]
  },
  {
   "cell_type": "code",
   "execution_count": 35,
   "id": "3e421f34-d1a7-4364-8591-da341b20aa2c",
   "metadata": {},
   "outputs": [],
   "source": [
    "data = primary[\"data\"]"
   ]
  },
  {
   "cell_type": "code",
   "execution_count": 36,
   "id": "56f3a33a-1835-4bcc-b332-d55e0012926f",
   "metadata": {},
   "outputs": [
    {
     "data": {
      "text/plain": [
       "<DatasetClient ['time', 'dwti_dwell_time', 'dwti_dwell_time_setpoint', 'dcm_energy', 'dcm_energy_setpoint', '7-element SDD_channel01_xrf', 'Co1', '7-element SDD_channel02_xrf', 'Co2', '7-element SDD_channel03_xrf', 'Co3', '7-element SDD_channel04_xrf', 'Co4', '7-element SDD_channel05_xrf', 'Co5', '7-element SDD_channel06_xrf', 'Co6', '7-element SDD_channel07_xrf', 'Co7', 'It', 'Ir', 'I0']>"
      ]
     },
     "execution_count": 36,
     "metadata": {},
     "output_type": "execute_result"
    }
   ],
   "source": [
    "data"
   ]
  },
  {
   "cell_type": "code",
   "execution_count": 37,
   "id": "8895bbc6-fded-4365-b22e-9bd5029e1264",
   "metadata": {},
   "outputs": [],
   "source": [
    "motor_test = bmm_catalog['e9979416-fd6d-4ea5-9d56-2257f52c9572']"
   ]
  },
  {
   "cell_type": "code",
   "execution_count": 38,
   "id": "c1c7fd5b-7d2b-49ba-8cbf-cc5bf3457739",
   "metadata": {},
   "outputs": [
    {
     "data": {
      "text/plain": [
       "<Container {'baseline', 'primary'}>"
      ]
     },
     "execution_count": 38,
     "metadata": {},
     "output_type": "execute_result"
    }
   ],
   "source": [
    "motor_test"
   ]
  },
  {
   "cell_type": "code",
   "execution_count": 39,
   "id": "eb2dd159-70c7-436b-b517-696cc4974e62",
   "metadata": {},
   "outputs": [],
   "source": [
    "motor_primary = motor_test['primary']"
   ]
  },
  {
   "cell_type": "code",
   "execution_count": 40,
   "id": "87b5ea2f-6059-4e8b-b13a-f5a3107472bc",
   "metadata": {},
   "outputs": [],
   "source": [
    "motor_data = motor_primary[\"data\"]"
   ]
  },
  {
   "cell_type": "code",
   "execution_count": 41,
   "id": "32277269-9d1d-4993-a341-c264597e6d1a",
   "metadata": {},
   "outputs": [
    {
     "data": {
      "text/plain": [
       "<DatasetClient ['time', 'It', 'xafs_x', 'xafs_x_user_setpoint', 'Ir', 'I0']>"
      ]
     },
     "execution_count": 41,
     "metadata": {},
     "output_type": "execute_result"
    }
   ],
   "source": [
    "motor_data"
   ]
  },
  {
   "cell_type": "code",
   "execution_count": 42,
   "id": "4f91f804-2125-4dde-90ab-2365c3a5cd3b",
   "metadata": {},
   "outputs": [],
   "source": [
    "xax = motor_data['xafs_x']"
   ]
  },
  {
   "cell_type": "code",
   "execution_count": 43,
   "id": "8e958f25-4628-428d-96a0-31b5e242e1cf",
   "metadata": {},
   "outputs": [
    {
     "data": {
      "text/plain": [
       "<ArrayClient shape=(31,) chunks=((31,),) dtype=float64 dims=('time',)>"
      ]
     },
     "execution_count": 43,
     "metadata": {},
     "output_type": "execute_result"
    }
   ],
   "source": [
    "xax"
   ]
  },
  {
   "cell_type": "code",
   "execution_count": 44,
   "id": "bb451543-eca2-4edf-8e55-6d5d8558c09b",
   "metadata": {},
   "outputs": [],
   "source": [
    "y = motor_data['It']"
   ]
  },
  {
   "cell_type": "code",
   "execution_count": 45,
   "id": "dcaffec7-c949-4480-a331-a9966ebc0b18",
   "metadata": {},
   "outputs": [
    {
     "data": {
      "text/plain": [
       "<ArrayClient shape=(31,) chunks=((31,),) dtype=float64 dims=('time',)>"
      ]
     },
     "execution_count": 45,
     "metadata": {},
     "output_type": "execute_result"
    }
   ],
   "source": [
    "y"
   ]
  },
  {
   "cell_type": "code",
   "execution_count": 46,
   "id": "62d7f22b-35a3-4cc7-abcf-6db265aa8ca4",
   "metadata": {},
   "outputs": [],
   "source": [
    "import matplotlib.pyplot as plt"
   ]
  },
  {
   "cell_type": "code",
   "execution_count": 47,
   "id": "5dcf004e-47b6-4965-8863-ae8e9fb12e35",
   "metadata": {},
   "outputs": [
    {
     "data": {
      "text/plain": [
       "[<matplotlib.lines.Line2D at 0x115869940>]"
      ]
     },
     "execution_count": 47,
     "metadata": {},
     "output_type": "execute_result"
    },
    {
     "data": {
      "image/png": "[encoded data removed]",
      "text/plain": [
       "<Figure size 640x480 with 1 Axes>"
      ]
     },
     "metadata": {},
     "output_type": "display_data"
    }
   ],
   "source": [
    "plt.plot(xax,y)"
   ]
  },
  {
   "cell_type": "code",
   "execution_count": 48,
   "id": "a7342fee-b538-4083-8f8f-37ac07fbbe39",
   "metadata": {},
   "outputs": [
    {
     "data": {
      "text/plain": [
       "array([138.8158775, 139.2158775, 139.6158775, 140.0158775, 140.4158775,\n",
       "       140.8158775, 141.2158775, 141.6158775, 142.0158775, 142.4158775,\n",
       "       142.8158775, 143.2158775, 143.6158775, 144.0158775, 144.4158775,\n",
       "       144.8158775, 145.2158775, 145.6158775, 146.0158775, 146.4158775,\n",
       "       146.8158775, 147.2158775, 147.6158775, 148.0158775, 148.4158775,\n",
       "       148.8158775, 149.2158775, 149.6158775, 150.0158775, 150.4158775,\n",
       "       150.8158775])"
      ]
     },
     "execution_count": 48,
     "metadata": {},
     "output_type": "execute_result"
    }
   ],
   "source": [
    "motor_data[\"xafs_x_user_setpoint\"][:]"
   ]
  },
  {
   "cell_type": "code",
   "execution_count": 49,
   "id": "ad52e2a6-6499-4f18-8a8a-ee832ea77202",
   "metadata": {},
   "outputs": [],
   "source": [
    "xs_example = (bmm_catalog[\"c0cedeca-5503-4f82-8928-77b2416a73e2\"])[\"primary\"]"
   ]
  },
  {
   "cell_type": "code",
   "execution_count": 50,
   "id": "16636391-e6a5-4842-9acd-ca989443212d",
   "metadata": {},
   "outputs": [],
   "source": [
    "xs_data = xs_example['data']"
   ]
  },
  {
   "cell_type": "code",
   "execution_count": 51,
   "id": "f91900f9-2ff7-4b98-8bad-e4d272396293",
   "metadata": {},
   "outputs": [],
   "source": [
    "y = xs_data['La1'][:] + xs_data['La2'][:] + xs_data['La3'][:] + xs_data['La4'][:]"
   ]
  },
  {
   "cell_type": "code",
   "execution_count": 52,
   "id": "cb697b82-3316-45ff-baad-b75c716722fd",
   "metadata": {},
   "outputs": [
    {
     "data": {
      "text/plain": [
       "array([1.41035550e+02, 2.89478294e+02, 9.12060014e+03, 2.41180774e+04,\n",
       "       3.05974209e+04, 3.30750190e+04, 3.54246620e+04, 3.45192774e+04,\n",
       "       3.34653994e+04, 3.42571551e+04, 3.48194463e+04, 3.54867924e+04,\n",
       "       3.71286906e+04, 3.63497786e+04, 3.43621489e+04, 3.26159439e+04,\n",
       "       2.26776760e+04, 3.85976069e+03, 2.02327227e+03, 1.81020973e+03,\n",
       "       1.80006614e+03, 1.85817780e+03, 1.75280325e+03, 1.53543941e+03,\n",
       "       1.47211177e+03, 7.49051273e+02, 1.32574007e+02, 3.52376368e+01,\n",
       "       4.44958395e+01, 5.42776045e+01, 2.91696064e+01])"
      ]
     },
     "execution_count": 52,
     "metadata": {},
     "output_type": "execute_result"
    }
   ],
   "source": [
    "y"
   ]
  },
  {
   "cell_type": "code",
   "execution_count": 53,
   "id": "d5fb08a1-d846-47a2-bf1b-a4f8839a40c8",
   "metadata": {},
   "outputs": [
    {
     "data": {
      "text/plain": [
       "<ArrayClient shape=(31,) chunks=((31,),) dtype=float64 dims=('time',)>"
      ]
     },
     "execution_count": 53,
     "metadata": {},
     "output_type": "execute_result"
    }
   ],
   "source": [
    "xs_data[\"xafs_y\"]"
   ]
  },
  {
   "cell_type": "code",
   "execution_count": 54,
   "id": "331841cb-aea5-41b3-8cc2-653277bde8be",
   "metadata": {},
   "outputs": [
    {
     "data": {
      "text/plain": [
       "31"
      ]
     },
     "execution_count": 54,
     "metadata": {},
     "output_type": "execute_result"
    }
   ],
   "source": [
    "len(y)"
   ]
  },
  {
   "cell_type": "code",
   "execution_count": 55,
   "id": "9bd7d9a5-b836-4339-8272-5e541697e24e",
   "metadata": {},
   "outputs": [
    {
     "data": {
      "text/plain": [
       "[<matplotlib.lines.Line2D at 0x155985f70>]"
      ]
     },
     "execution_count": 55,
     "metadata": {},
     "output_type": "execute_result"
    },
    {
     "data": {
      "image/png": "[encoded data removed]",
      "text/plain": [
       "<Figure size 640x480 with 1 Axes>"
      ]
     },
     "metadata": {},
     "output_type": "display_data"
    }
   ],
   "source": [
    "plt.plot(xs_data[\"xafs_y\"], y)"
   ]
  },
  {
   "cell_type": "code",
   "execution_count": 56,
   "id": "1d4487f5-23fe-47ac-862e-e0d438c3c90e",
   "metadata": {},
   "outputs": [
    {
     "data": {
      "text/plain": [
       "array([91.5777275 , 91.71106083, 91.84439417, 91.9777275 , 92.11106083,\n",
       "       92.24439417, 92.3777275 , 92.51106083, 92.64439417, 92.7777275 ,\n",
       "       92.91106083, 93.04439417, 93.1777275 , 93.31106083, 93.44439417,\n",
       "       93.5777275 , 93.71106083, 93.84439417, 93.9777275 , 94.11106083,\n",
       "       94.24439417, 94.3777275 , 94.51106083, 94.64439417, 94.7777275 ,\n",
       "       94.91106083, 95.04439417, 95.1777275 , 95.31106083, 95.44439417,\n",
       "       95.5777275 ])"
      ]
     },
     "execution_count": 56,
     "metadata": {},
     "output_type": "execute_result"
    }
   ],
   "source": [
    "xs_data[\"xafs_y_user_setpoint\"][:]"
   ]
  },
  {
   "cell_type": "code",
   "execution_count": 57,
   "id": "1817b7ba-b31c-467a-b365-3681b2d76bed",
   "metadata": {},
   "outputs": [],
   "source": [
    "import pandas as pd"
   ]
  },
  {
   "cell_type": "code",
   "execution_count": 58,
   "id": "e53d7a2a",
   "metadata": {},
   "outputs": [],
   "source": [
    "import re"
   ]
  },
  {
   "cell_type": "code",
   "execution_count": 63,
   "id": "905c4de1",
   "metadata": {},
   "outputs": [],
   "source": [
    "def parse_file(file_path):\n",
    "    with open(file_path, 'r') as file:\n",
    "        lines = file.readlines()\n",
    "    \n",
    "    entries = []\n",
    "    entry = {}\n",
    "    \n",
    "    for line in lines:\n",
    "        line = line.strip()\n",
    "        if re.match(r'\\d{4}-\\d{2}-\\d{2}', line):\n",
    "            if entry:\n",
    "                entries.append(entry)\n",
    "                entry = {}\n",
    "            entry['date'] = line\n",
    "        elif line.startswith('mode ='):\n",
    "            modes = line.split('=')[1].strip().split('/')\n",
    "            entry['mode X'] = modes[0]\n",
    "            entry['mode Y'] = modes[1]\n",
    "        elif line.startswith('uid ='):\n",
    "            entry['UID'] = line.split('=')[1].strip()\n",
    "        elif line.startswith('position ='):\n",
    "            entry['position'] = round(float(line.split('=')[1].strip()), 3)\n",
    "    \n",
    "    if entry:\n",
    "        entries.append(entry)\n",
    "    \n",
    "    return entries"
   ]
  },
  {
   "cell_type": "code",
   "execution_count": 79,
   "id": "eeb079ba",
   "metadata": {},
   "outputs": [],
   "source": [
    "def process_files(file_list, example_catalog):\n",
    "    data = []\n",
    "    for file in file_list:\n",
    "        data.extend(parse_file(file))\n",
    "    df = pd.DataFrame(data)\n",
    "    \n",
    "    # Retrieve additional data from example_catalog\n",
    "    for index, row in df.head(5).iterrows():\n",
    "        uid = row['UID']\n",
    "        if uid in example_catalog:\n",
    "            test_primary = example_catalog[uid].get('primary', {})\n",
    "            test_data = test_primary.get('data', {})\n",
    "            df.at[index, 'xax'] = test_data.get(row['mode X'], None)\n",
    "            df.at[index, 'yay'] = test_data.get(row['mode Y'], None)\n",
    "    \n",
    "    return df"
   ]
  },
  {
   "cell_type": "code",
   "execution_count": 80,
   "id": "581fa10f",
   "metadata": {},
   "outputs": [],
   "source": [
    "file_list = [\"datasets/linescan_evaluation.txt.1\", \"datasets/linescan_evaluation.txt.2\"]\n",
    "df = process_files(file_list, bmm_catalog)"
   ]
  },
  {
   "cell_type": "code",
   "execution_count": 81,
   "id": "ef871424",
   "metadata": {},
   "outputs": [
    {
     "data": {
      "text/html": [
       "<div>\n",
       "<style scoped>\n",
       "    .dataframe tbody tr th:only-of-type {\n",
       "        vertical-align: middle;\n",
       "    }\n",
       "\n",
       "    .dataframe tbody tr th {\n",
       "        vertical-align: top;\n",
       "    }\n",
       "\n",
       "    .dataframe thead th {\n",
       "        text-align: right;\n",
       "    }\n",
       "</style>\n",
       "<table border=\"1\" class=\"dataframe\">\n",
       "  <thead>\n",
       "    <tr style=\"text-align: right;\">\n",
       "      <th></th>\n",
       "      <th>date</th>\n",
       "      <th>mode X</th>\n",
       "      <th>mode Y</th>\n",
       "      <th>UID</th>\n",
       "      <th>position</th>\n",
       "      <th>xax</th>\n",
       "      <th>yay</th>\n",
       "    </tr>\n",
       "  </thead>\n",
       "  <tbody>\n",
       "    <tr>\n",
       "      <th>0</th>\n",
       "      <td>2024-02-12T09-33-05</td>\n",
       "      <td>xafs_x</td>\n",
       "      <td>It</td>\n",
       "      <td>e9979416-fd6d-4ea5-9d56-2257f52c9572</td>\n",
       "      <td>144.177</td>\n",
       "      <td>(138.8157625, 139.2158125, 139.6158625, 140.01...</td>\n",
       "      <td>(4.354458007812499, 4.464624080657958, 4.57596...</td>\n",
       "    </tr>\n",
       "    <tr>\n",
       "      <th>1</th>\n",
       "      <td>2024-02-12T09-36-20</td>\n",
       "      <td>xafs_x</td>\n",
       "      <td>It</td>\n",
       "      <td>2d8b6741-e589-4e6b-8c16-f3ab6bbc336e</td>\n",
       "      <td>144.150</td>\n",
       "      <td>(138.1769525, 138.5770025, 138.9770525, 139.37...</td>\n",
       "      <td>(3.9357524967193607, 4.21982141494751, 4.34913...</td>\n",
       "    </tr>\n",
       "    <tr>\n",
       "      <th>2</th>\n",
       "      <td>2024-02-12T09-40-38</td>\n",
       "      <td>xafs_x</td>\n",
       "      <td>It</td>\n",
       "      <td>2e30454f-a5ac-48f9-a3bf-5e1b15e544b5</td>\n",
       "      <td>143.645</td>\n",
       "      <td>(138.1502825, 138.55033250000002, 138.95038250...</td>\n",
       "      <td>(3.303476009368896, 3.8617818450927732, 4.3653...</td>\n",
       "    </tr>\n",
       "    <tr>\n",
       "      <th>3</th>\n",
       "      <td>2024-02-12T09-45-30</td>\n",
       "      <td>xafs_x</td>\n",
       "      <td>It</td>\n",
       "      <td>a925e08a-7d1c-4e44-a8d5-126bcb62dc9e</td>\n",
       "      <td>144.097</td>\n",
       "      <td>(137.644505, 138.044555, 138.44460500000002, 1...</td>\n",
       "      <td>(2.491794548034668, 2.986265478134155, 3.27005...</td>\n",
       "    </tr>\n",
       "    <tr>\n",
       "      <th>4</th>\n",
       "      <td>2024-02-12T09-48-23</td>\n",
       "      <td>xafs_x</td>\n",
       "      <td>It</td>\n",
       "      <td>76c348a3-5bb4-4b21-93e6-9e25995c6eaf</td>\n",
       "      <td>141.170</td>\n",
       "      <td>(138.0969425, 138.4969925, 138.8970425, 139.29...</td>\n",
       "      <td>(1.613636932373047, 1.672995433807373, 1.73144...</td>\n",
       "    </tr>\n",
       "  </tbody>\n",
       "</table>\n",
       "</div>"
      ],
      "text/plain": [
       "                  date  mode X mode Y                                   UID  \\\n",
       "0  2024-02-12T09-33-05  xafs_x     It  e9979416-fd6d-4ea5-9d56-2257f52c9572   \n",
       "1  2024-02-12T09-36-20  xafs_x     It  2d8b6741-e589-4e6b-8c16-f3ab6bbc336e   \n",
       "2  2024-02-12T09-40-38  xafs_x     It  2e30454f-a5ac-48f9-a3bf-5e1b15e544b5   \n",
       "3  2024-02-12T09-45-30  xafs_x     It  a925e08a-7d1c-4e44-a8d5-126bcb62dc9e   \n",
       "4  2024-02-12T09-48-23  xafs_x     It  76c348a3-5bb4-4b21-93e6-9e25995c6eaf   \n",
       "\n",
       "   position                                                xax  \\\n",
       "0   144.177  (138.8157625, 139.2158125, 139.6158625, 140.01...   \n",
       "1   144.150  (138.1769525, 138.5770025, 138.9770525, 139.37...   \n",
       "2   143.645  (138.1502825, 138.55033250000002, 138.95038250...   \n",
       "3   144.097  (137.644505, 138.044555, 138.44460500000002, 1...   \n",
       "4   141.170  (138.0969425, 138.4969925, 138.8970425, 139.29...   \n",
       "\n",
       "                                                 yay  \n",
       "0  (4.354458007812499, 4.464624080657958, 4.57596...  \n",
       "1  (3.9357524967193607, 4.21982141494751, 4.34913...  \n",
       "2  (3.303476009368896, 3.8617818450927732, 4.3653...  \n",
       "3  (2.491794548034668, 2.986265478134155, 3.27005...  \n",
       "4  (1.613636932373047, 1.672995433807373, 1.73144...  "
      ]
     },
     "execution_count": 81,
     "metadata": {},
     "output_type": "execute_result"
    }
   ],
   "source": [
    "df.head()"
   ]
  },
  {
   "cell_type": "code",
   "execution_count": 69,
   "id": "e2778671",
   "metadata": {},
   "outputs": [
    {
     "data": {
      "text/plain": [
       "2511"
      ]
     },
     "execution_count": 69,
     "metadata": {},
     "output_type": "execute_result"
    }
   ],
   "source": [
    "len(df)"
   ]
  },
  {
   "cell_type": "code",
   "execution_count": 70,
   "id": "bf09a177",
   "metadata": {},
   "outputs": [
    {
     "data": {
      "text/plain": [
       "<Container {'c7cfa95c-daef-4bb1-bb8f-8d1a4f25e5dc', ...} ~211885 entries>"
      ]
     },
     "execution_count": 70,
     "metadata": {},
     "output_type": "execute_result"
    }
   ],
   "source": [
    "bmm_catalog"
   ]
  },
  {
   "cell_type": "code",
   "execution_count": null,
   "id": "4682296a",
   "metadata": {},
   "outputs": [],
   "source": []
  }
 ],
 "metadata": {
  "kernelspec": {
   "display_name": "tiled-demo",
   "language": "python",
   "name": "python3"
  },
  "language_info": {
   "codemirror_mode": {
    "name": "ipython",
    "version": 3
   },
   "file_extension": ".py",
   "mimetype": "text/x-python",
   "name": "python",
   "nbconvert_exporter": "python",
   "pygments_lexer": "ipython3",
   "version": "3.12.8"
  }
 },
 "nbformat": 4,
 "nbformat_minor": 5
}
